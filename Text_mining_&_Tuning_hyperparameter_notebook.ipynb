{
  "cells": [
    {
      "cell_type": "markdown",
      "metadata": {
        "id": "agBJ0398FCny"
      },
      "source": [
        "\n",
        "**By : Rendra Dwi Prasetyo**\n",
        "\n"
      ]
    },
    {
      "cell_type": "markdown",
      "metadata": {
        "id": "qJnESKAz8Z8G"
      },
      "source": [
        "### Load Data & Explore Data"
      ]
    },
    {
      "cell_type": "code",
      "execution_count": null,
      "metadata": {
        "id": "HjW0ZK-5_db-"
      },
      "outputs": [],
      "source": [
        "import pandas as pd"
      ]
    },
    {
      "cell_type": "code",
      "execution_count": null,
      "metadata": {
        "id": "0ZASQxMU8cGc"
      },
      "outputs": [],
      "source": [
        "DF = pd.read_csv('/content/data_1C.csv',index_col=0)\n",
        "\n",
        "#index_col = 0, so that the first column in the CSV file does not become a separate column (but becomes the index of the dataframe)"
      ]
    },
    {
      "cell_type": "code",
      "execution_count": null,
      "metadata": {
        "id": "axoURlPN9V4d"
      },
      "outputs": [],
      "source": [
        "DF"
      ]
    },
    {
      "cell_type": "markdown",
      "metadata": {
        "id": "EMe5mc1w-yon"
      },
      "source": [
        "Data in the form of text in English"
      ]
    },
    {
      "cell_type": "code",
      "execution_count": null,
      "metadata": {
        "id": "jFDN1X5VrEXi"
      },
      "outputs": [],
      "source": [
        "DF.info()"
      ]
    },
    {
      "cell_type": "code",
      "execution_count": null,
      "metadata": {
        "id": "iqdksyCq9rCa"
      },
      "outputs": [],
      "source": [
        "# look the types of labels and their quantity\n",
        "DF['label'].value_counts()"
      ]
    },
    {
      "cell_type": "markdown",
      "metadata": {
        "id": "24Jcp01G99Sk"
      },
      "source": [
        "Label data shows that it is not an ordinal data type, so 1 label and other labels are independent (there is no order or level between labels)."
      ]
    },
    {
      "cell_type": "code",
      "execution_count": null,
      "metadata": {
        "id": "j5sWRmpq_z01"
      },
      "outputs": [],
      "source": [
        "# check null/missing value\n",
        "DF.isna().sum()"
      ]
    },
    {
      "cell_type": "markdown",
      "source": [
        "There are no null / missing values"
      ],
      "metadata": {
        "id": "VqOjIYGH75fG"
      }
    },
    {
      "cell_type": "markdown",
      "metadata": {
        "id": "Czk41xkc8Qiu"
      },
      "source": [
        "### **a. Preprocessing**"
      ]
    },
    {
      "cell_type": "markdown",
      "metadata": {
        "id": "ngezPWAU_YDJ"
      },
      "source": [
        "Library untuk preprocessing"
      ]
    },
    {
      "cell_type": "code",
      "execution_count": null,
      "metadata": {
        "id": "UAnA3nnd_aUt"
      },
      "outputs": [],
      "source": [
        "import nltk\n",
        "nltk.download('wordnet') # For English language\n",
        "nltk.download('stopwords')\n",
        "from nltk.corpus import stopwords\n",
        "from nltk.stem import WordNetLemmatizer\n",
        "import re"
      ]
    },
    {
      "cell_type": "code",
      "execution_count": null,
      "metadata": {
        "id": "EPPYzifTNT6r"
      },
      "outputs": [],
      "source": [
        "def preprocess_text(text):\n",
        "    text = re.sub(r'http\\S+', '', text) # remove URLs\n",
        "    text = re.sub(r'\\W', ' ', text)  # remove symbols / special character\n",
        "    text = re.sub(r'\\s+',' ',text) # remove double white space\n",
        "    text = text.lower()  # change all character to lowercase (Case Folding)\n",
        "    text = text.split()\n",
        "    lemmatizer = WordNetLemmatizer()\n",
        "    text = [lemmatizer.lemmatize(word) for word in text if word not in stopwords.words('english')]\n",
        "    return ' '.join(text)\n",
        "\n",
        "DF['cleaned_text'] = DF['text'].apply(preprocess_text)"
      ]
    },
    {
      "cell_type": "markdown",
      "metadata": {
        "id": "NepMbvhSFIFr"
      },
      "source": [
        "Explanation:\n",
        "\n",
        "After exploring the dataset, I found out that the text data was in **English** so the library tool I used was in English.  \n",
        "\n",
        "1. Tokenization:\n",
        "Splitting text into individual words or tokens. For example \"Text mining\" becomes \"text\" and \"mining\"\n",
        "\n",
        "2. Removal of Stopwords: Removing words that are common and do not provide much information. For example \"and\", \"or\", \"then\"\n",
        "\n",
        "3. Deleting double white space: For example \"rendra‎ ‎ dwi\" becomes \"rendra dwi\", then I also delete symbols and links if they are in the text\n",
        "\n",
        "3. Lemmatization is a concept like stemming which changes words into their basic form.\n",
        "For example: \"teaching\" becomes \"teach\".\n",
        "\n",
        "But here I don't use stemming, but rather **lemitization**, because it pays more attention to the morphological and grammatical context, where the results will be more precise than stemming."
      ]
    },
    {
      "cell_type": "code",
      "execution_count": null,
      "metadata": {
        "id": "Yv0_CuqFGMoK"
      },
      "outputs": [],
      "source": [
        "# Check the results of cleaning text\n",
        "DF"
      ]
    },
    {
      "cell_type": "code",
      "execution_count": null,
      "metadata": {
        "id": "6iS1ufSuGOp9"
      },
      "outputs": [],
      "source": [
        "# Visualization with WordCloud\n",
        "from wordcloud import WordCloud\n",
        "import matplotlib.pyplot as plt\n",
        "\n",
        "text = ' '.join(DF['cleaned_text'])\n",
        "wordcloud = WordCloud(width=800, height=400, random_state=21, max_font_size=110).generate(text)\n",
        "\n",
        "plt.figure(figsize=(10, 5))\n",
        "plt.imshow(wordcloud, interpolation=\"bilinear\") # bilinear so that the image is smooth and not broken\n",
        "plt.axis('off')\n",
        "plt.show()"
      ]
    },
    {
      "cell_type": "code",
      "source": [
        "# Additional Stopwords (Manual Removal)\n",
        "# this list for words observed in the wordcloud that are not informative\n",
        "additional_stopwords = [\"u\", \"one,\" \"x,\" \"come,\" \"provide,\" \"offer,\" \"give,\" \"keep,\" \"help,\" \"support\", \"high,\" \"quality,\" \"perfect,\" \"great,\" \"better,\" \"new,\" \"unique,\" \"beautiful\",\"product,\" \"life,\" \"feature,\" \"design,\" \"set,\" \"one,\" \"time,\" \"way,\" \"type\"]\n",
        "\n",
        "#Combined stopwords\n",
        "stop_words = set(stopwords.words('english'))\n",
        "stop_words.update(additional_stopwords)\n",
        "\n",
        "\n",
        "def preprocess_text_with_additional_stopwords(text):\n",
        "    text = re.sub(r'http\\S+', '', text)\n",
        "    text = re.sub(r'\\W', ' ', text)\n",
        "    text = re.sub(r'\\s+', ' ', text)\n",
        "    text = text.lower()\n",
        "    text = text.split()\n",
        "    lemmatizer = WordNetLemmatizer()\n",
        "    text = [lemmatizer.lemmatize(word) for word in text if word not in stop_words] #using updated stopwords\n",
        "    return ' '.join(text)\n",
        "\n",
        "\n",
        "DF['cleaned_text'] = DF['text'].apply(preprocess_text_with_additional_stopwords) #apply new preprocessing"
      ],
      "metadata": {
        "id": "68_YzzQNhkMa"
      },
      "execution_count": null,
      "outputs": []
    },
    {
      "cell_type": "markdown",
      "metadata": {
        "id": "NsjbqaL_FlvA"
      },
      "source": [
        "**Splitting dataset**"
      ]
    },
    {
      "cell_type": "code",
      "execution_count": null,
      "metadata": {
        "id": "7mF9QUJZFjI0"
      },
      "outputs": [],
      "source": [
        "from sklearn.model_selection import train_test_split\n",
        "\n",
        "X = DF['cleaned_text'] # text that has been processed\n",
        "y = DF['label']  # labels are targets, what I have identified earlier are 4 types of labels\n",
        "X_train, X_test, y_train, y_test = train_test_split(X, y, test_size=0.2, random_state=42) #traininng 80% and 20% data for testing"
      ]
    },
    {
      "cell_type": "markdown",
      "metadata": {
        "id": "ubaw5pWUGstC"
      },
      "source": [
        "### **b. Modeling algorthm klasifikasi**"
      ]
    },
    {
      "cell_type": "markdown",
      "metadata": {
        "id": "6MmVs1xwG0jq"
      },
      "source": [
        "#### Vectorization method"
      ]
    },
    {
      "cell_type": "markdown",
      "metadata": {
        "id": "0KE3OzJ4Hlgi"
      },
      "source": [
        "There are 2 vectorization methods that I use:\n",
        "\n",
        "\n",
        "* Method 1: TF-IDF\n",
        "* Method 2: Bag of Word (BoW)\n",
        "\n"
      ]
    },
    {
      "cell_type": "code",
      "execution_count": null,
      "metadata": {
        "id": "RbMEkvMhghBE"
      },
      "outputs": [],
      "source": [
        "from sklearn.feature_extraction.text import TfidfVectorizer\n",
        "\n",
        "# Method 1: TF-IDF\n",
        "tfidf_vectorizer = TfidfVectorizer() # object to carry out TF-IDF vectorization\n",
        "X_train_tfidf = tfidf_vectorizer.fit_transform(X_train) # apply TF-IDF for training data\n",
        "X_test_tfidf = tfidf_vectorizer.transform(X_test) # apply TF-IDF for testing data"
      ]
    },
    {
      "cell_type": "code",
      "execution_count": null,
      "metadata": {
        "id": "3XX1OnMsGWeb"
      },
      "outputs": [],
      "source": [
        "from sklearn.feature_extraction.text import CountVectorizer # Import CountVectorizer\n",
        "\n",
        "# Method 2: Bag of Words (BoW)\n",
        "bow_vectorizer = CountVectorizer() # object to carry out Bag of word Vectorization\n",
        "X_train_bow = bow_vectorizer.fit_transform(X_train) #apply BoW for training data\n",
        "X_test_bow = bow_vectorizer.transform(X_test) #apply BoW for testing data"
      ]
    },
    {
      "cell_type": "markdown",
      "metadata": {
        "id": "fA0X0Y2_R3Zf"
      },
      "source": [
        "TF-IDF = The product of the TF value (word frequency) and IDF (calculating how important a word is in the entire data set).\n",
        "\n",
        "Bow = the result of calculating the frequency of word occurrences in a set of data."
      ]
    },
    {
      "cell_type": "code",
      "execution_count": null,
      "metadata": {
        "id": "tH2Jy3thfF2l"
      },
      "outputs": [],
      "source": [
        "print(X_train_tfidf.shape)\n",
        "print(X_train_bow.shape)"
      ]
    },
    {
      "cell_type": "markdown",
      "metadata": {
        "id": "1J5up3a6iJZS"
      },
      "source": [
        "The results of TFIDF and Bag of Word vectorization dimensions for training data are quite large with 10084 text samples and 39628 features"
      ]
    },
    {
      "cell_type": "markdown",
      "metadata": {
        "id": "dQWgTatpG4Cy"
      },
      "source": [
        "#### **MODEL**"
      ]
    },
    {
      "cell_type": "markdown",
      "metadata": {
        "id": "G2BHUef1jsJk"
      },
      "source": [
        "##### **I. Vectorization method 1 : TF-IDF**"
      ]
    },
    {
      "cell_type": "markdown",
      "metadata": {
        "id": "FnyLcd7LG7Mb"
      },
      "source": [
        "###### **1. SVM**\n",
        "Using vectorization method 1 : TF-IDF"
      ]
    },
    {
      "cell_type": "markdown",
      "metadata": {
        "id": "VH_bozX_egyX"
      },
      "source": [
        "* To find the best hyperparameters I use GridSearchCV because it can work by trying all parameter combinations to get the most optimal hyperparameters.\n",
        "* **Hyperparameters** that I use are two, namely Kernel (linear and rbf) and C (between 0.1, 1 and 10)\n",
        "* I divided the cross validaton (cv) into 5 fold sections to reduce overfitting, and the number of trials was as many as the number of hyperparameter combinations that can be obtained via Gridsearch.\n",
        "\n",
        "\n",
        "I did this with consideration to get optimal results."
      ]
    },
    {
      "cell_type": "code",
      "execution_count": null,
      "metadata": {
        "id": "moOufze2G8Yl"
      },
      "outputs": [],
      "source": [
        "from sklearn.model_selection import GridSearchCV\n",
        "from sklearn.svm import SVC\n",
        "\n",
        "# Tuning Hyperparameter for SVM\n",
        "svm_params = {'C': [0.1, 1, 10], 'kernel': ['linear','rbf']}\n",
        "svm_random = GridSearchCV(SVC(), svm_params, scoring='accuracy', cv=5)\n",
        "svm_random.fit(X_train_tfidf, y_train)\n",
        "\n"
      ]
    },
    {
      "cell_type": "code",
      "execution_count": null,
      "metadata": {
        "id": "80vBdl9C1PtQ"
      },
      "outputs": [],
      "source": [
        "# get the accuracy value for each combination of parameters used\n",
        "for mean_score, params in zip(svm_random.cv_results_['mean_test_score'], svm_random.cv_results_['params']):\n",
        "    print(f\"Score: {mean_score:.5f} with parameters: {params}\")\n",
        "\n",
        "print(f\"\\nBest Accuracy Score: {svm_random.best_score_:.5f} using parameters: {svm_random.best_params_}\")"
      ]
    },
    {
      "cell_type": "markdown",
      "source": [
        "This C is a regulation that controls the trade-off between model complexity and training error. The results I got show that if the C value is too low the results are not as good as when the C value is larger, and in general the linear kernel is better than rbf."
      ],
      "metadata": {
        "id": "SrudCJnjr_Kb"
      }
    },
    {
      "cell_type": "markdown",
      "metadata": {
        "id": "YvX5ghK8ITOx"
      },
      "source": [
        "****REPORT for test data****"
      ]
    },
    {
      "cell_type": "code",
      "execution_count": null,
      "metadata": {
        "id": "wwEVmiv1xkxq"
      },
      "outputs": [],
      "source": [
        "from sklearn.metrics import accuracy_score, classification_report, precision_score, recall_score, f1_score\n",
        "\n",
        "# SVM with TF-IDF\n",
        "y_pred_svm_tfidf = svm_random.predict(X_test_tfidf)\n",
        "print(classification_report(y_pred_svm_tfidf,y_test))"
      ]
    },
    {
      "cell_type": "markdown",
      "source": [
        "\n",
        "- The following are the values ​​for accuracy, precision, recall and f1 score without rounding:"
      ],
      "metadata": {
        "id": "MDRZDyglqxTr"
      }
    },
    {
      "cell_type": "code",
      "source": [
        "print(\"SVM (TF-IDF)  -> Accuracy  :\", accuracy_score(y_test, y_pred_svm_tfidf))\n",
        "print(\"SVM (TF-IDF)  -> Precision :\", precision_score(y_test, y_pred_svm_tfidf, average='weighted'))\n",
        "print(\"SVM (TF-IDF)  -> Recall    :\", recall_score(y_test, y_pred_svm_tfidf, average='weighted'))\n",
        "print(\"SVM (TF-IDF)  -> F1 Score  :\", f1_score(y_test, y_pred_svm_tfidf, average='weighted'))"
      ],
      "metadata": {
        "id": "Xp40TtSeNVZ8"
      },
      "execution_count": null,
      "outputs": []
    },
    {
      "cell_type": "markdown",
      "metadata": {
        "id": "pYwBCqmpLNRc"
      },
      "source": [
        "######**2. Random Forest**\n",
        "\n",
        "Using vectorization method 1 : TF-IDF"
      ]
    },
    {
      "cell_type": "markdown",
      "metadata": {
        "id": "4b3koYWZMkda"
      },
      "source": [
        "* To find the best hyperparameters I use GridSearchCV because it works by trying all parameter combinations until I get the most optimal hyperparameter pair.\n",
        "* **Hyperparameters** that I use are two, namely the number of estimates: n_estimators(50, 100, 200) and maximum depth (50, 100, None)  \n",
        "* I divided the cross validaton (cv) into 5 fold parts."
      ]
    },
    {
      "cell_type": "code",
      "execution_count": null,
      "metadata": {
        "id": "1gcvGGVnTX57"
      },
      "outputs": [],
      "source": [
        "from sklearn.ensemble import RandomForestClassifier\n",
        "\n",
        "rf_params = {'n_estimators': [50, 100, 200], 'max_depth': [50, 100, None]}\n",
        "rf_tfidf = GridSearchCV(RandomForestClassifier(), rf_params, scoring='accuracy', cv=5)\n",
        "rf_tfidf.fit(X_train_tfidf, y_train)"
      ]
    },
    {
      "cell_type": "code",
      "execution_count": null,
      "metadata": {
        "id": "YS-vt2-za5BG"
      },
      "outputs": [],
      "source": [
        "# accuracy value during training and selected parameters\n",
        "for mean_score, params in zip(rf_tfidf.cv_results_['mean_test_score'], rf_tfidf.cv_results_['params']):\n",
        "    print(f\"Score: {mean_score:.3f} with parameters: {params}\")\n",
        "print(f\"\\nBest Accuracy Score: {rf_tfidf.best_score_:.3f} using parameter: {rf_tfidf.best_params_}\")"
      ]
    },
    {
      "cell_type": "markdown",
      "metadata": {
        "id": "OTxpV4jpL9ky"
      },
      "source": [
        "From the results of the training scores, it can be seen that when the max_depth and n_estimator values ​​are higher, the scores during training are getting better."
      ]
    },
    {
      "cell_type": "markdown",
      "metadata": {
        "id": "pfPk2aODPaFD"
      },
      "source": [
        "**REPORT for test data**"
      ]
    },
    {
      "cell_type": "code",
      "execution_count": null,
      "metadata": {
        "id": "Vl_WG4guakVv"
      },
      "outputs": [],
      "source": [
        "# Random Forest with TF-IDF\n",
        "y_pred_rf_tfidf = rf_tfidf.predict(X_test_tfidf) # to predict\n",
        "\n",
        "# Display score accuracy, precision, recall and F1\n",
        "print(classification_report(y_pred_rf_tfidf,y_test))"
      ]
    },
    {
      "cell_type": "code",
      "source": [
        "# score without rounding\n",
        "print(\"Random Forest (TF-IDF) - Accuracy:\", accuracy_score(y_test, y_pred_rf_tfidf))\n",
        "print(\"Random Forest (TF-IDF) - Precision:\", precision_score(y_test, y_pred_rf_tfidf, average='weighted'))\n",
        "print(\"Random Forest (TF-IDF) - Recall:\", recall_score(y_test, y_pred_rf_tfidf, average='weighted'))\n",
        "print(\"Random Forest (TF-IDF) - F1 Score:\", f1_score(y_test, y_pred_rf_tfidf, average='weighted'))"
      ],
      "metadata": {
        "id": "qp1mVD1bNJnW"
      },
      "execution_count": null,
      "outputs": []
    },
    {
      "cell_type": "markdown",
      "metadata": {
        "id": "O6n4wH_rOpAm"
      },
      "source": [
        "#####  **II. Vectorization Method 2 : BoW (Bag of Word)**"
      ]
    },
    {
      "cell_type": "markdown",
      "metadata": {
        "id": "VtegHWi_PFO8"
      },
      "source": [
        "######**1. SVM**"
      ]
    },
    {
      "cell_type": "markdown",
      "metadata": {
        "id": "-c9QjI14M53w"
      },
      "source": [
        "* To find the best hyperparameters, this time I used GridSearch which can see all the combination options for the parameters that I will determine.\n",
        "* **Hyperparameters** that I use are two, namely Kernel (linear and rbf) and C (between 0.1, 1 and 10)\n",
        "* I divided the cross validaton (cv) into 5 fold parts. Because using gridsearch, the number of combination attempts matches the total of all possible combinations"
      ]
    },
    {
      "cell_type": "code",
      "execution_count": null,
      "metadata": {
        "id": "23cdA0z-bbbL"
      },
      "outputs": [],
      "source": [
        "svm_params = {'C': [0.1, 1, 10], 'kernel': ['linear', 'rbf']}\n",
        "svm_bow = GridSearchCV(SVC(), svm_params, scoring='accuracy', cv=5)\n",
        "svm_bow.fit(X_train_bow, y_train)"
      ]
    },
    {
      "cell_type": "code",
      "execution_count": null,
      "metadata": {
        "id": "8Gk0wD5bOzWu"
      },
      "outputs": [],
      "source": [
        "# accuracy value during training and selected parameters\n",
        "for mean_score, params in zip(svm_bow.cv_results_['mean_test_score'], svm_bow.cv_results_['params']):\n",
        "    print(f\"Score: {mean_score:.3f} with parameter: {params}\")\n",
        "print(f\"\\nBest Accuracy Score: {svm_bow.best_score_:.3f} using parameter: {svm_bow.best_params_}\")"
      ]
    },
    {
      "cell_type": "markdown",
      "source": [
        "The most striking difference in the score results during training is in the kernel, in general the linear kernel gives better results."
      ],
      "metadata": {
        "id": "p0ei48GPueu_"
      }
    },
    {
      "cell_type": "markdown",
      "metadata": {
        "id": "3vRfCrs6P66m"
      },
      "source": [
        "**REPORT for test data**"
      ]
    },
    {
      "cell_type": "code",
      "execution_count": null,
      "metadata": {
        "id": "LgzHFtUsz7bm"
      },
      "outputs": [],
      "source": [
        "# SVM with Bag of Words\n",
        "y_pred_svm_bow = svm_bow.predict(X_test_bow)\n",
        "\n",
        "# Display score result of accuracy, precision, recall, f1-score\n",
        "print(classification_report(y_pred_svm_bow,y_test))\n",
        "print(\"SVM (BoW) -> Accuracy  :\", accuracy_score(y_test, y_pred_svm_bow))"
      ]
    },
    {
      "cell_type": "code",
      "source": [
        "print(\"SVM (BoW) -> Accuracy  :\", accuracy_score(y_test, y_pred_svm_bow))\n",
        "print(\"SVM (BoW) -> Precision :\", precision_score(y_test, y_pred_svm_bow, average='weighted'))\n",
        "print(\"SVM (BoW) -> Recall    :\", recall_score(y_test, y_pred_svm_bow, average='weighted'))\n",
        "print(\"SVM (BoW) -> F1 Score  :\", f1_score(y_test, y_pred_svm_bow, average='weighted'))"
      ],
      "metadata": {
        "id": "Sbhy9KhPNCj1"
      },
      "execution_count": null,
      "outputs": []
    },
    {
      "cell_type": "markdown",
      "metadata": {
        "id": "VG2UUuxoHRZ1"
      },
      "source": [
        "######**2. Random Forest**"
      ]
    },
    {
      "cell_type": "markdown",
      "metadata": {
        "id": "8GcxBNLfBrem"
      },
      "source": [
        "* To find the best hyperparameters I use GridSearch.\n",
        "* **Hyperparameters** that I use are two, namely the number of estimates: n_estimators(50, 100, 200) and maximum depth (50, 100, None)  \n",
        "* I divided the cross validaton (cv) into 5 fold sections, with 4x hyperparameter combination experiments.\n",
        "\n",
        "\n",
        "I did this by considering getting optimal results but also with a computing time that was not too long"
      ]
    },
    {
      "cell_type": "code",
      "execution_count": null,
      "metadata": {
        "id": "I_LqVmZgHf0B"
      },
      "outputs": [],
      "source": [
        "from sklearn.ensemble import RandomForestClassifier\n",
        "\n",
        "# Tuning Hyperparameter for Random Forest\n",
        "rf_params = {'n_estimators': [50, 100, 200], 'max_depth': [50, 100, None]}\n",
        "rf_bow = GridSearchCV(RandomForestClassifier(), rf_params, scoring='accuracy', cv=5)\n",
        "rf_bow.fit(X_train_bow, y_train)\n"
      ]
    },
    {
      "cell_type": "code",
      "execution_count": null,
      "metadata": {
        "id": "mo-Zd6z5PNEj"
      },
      "outputs": [],
      "source": [
        "# accuracy value during training and selected parameters\n",
        "for mean_score, params in zip(rf_bow.cv_results_['mean_test_score'], rf_bow.cv_results_['params']):\n",
        "    print(f\"Score: {mean_score:.3f} with parameter: {params}\")\n",
        "print(f\"\\nBest Accuracy Score: {rf_bow.best_score_:.3f} using parameter: {rf_bow.best_params_}\")"
      ]
    },
    {
      "cell_type": "markdown",
      "source": [
        "\n",
        "Training score data shows that in general using high max_depth and n_estimator hyperparameters will give better results"
      ],
      "metadata": {
        "id": "kYTsypdrw3f_"
      }
    },
    {
      "cell_type": "markdown",
      "metadata": {
        "id": "9uPOwksOP-nR"
      },
      "source": [
        "**REPORT for test data**"
      ]
    },
    {
      "cell_type": "code",
      "execution_count": null,
      "metadata": {
        "id": "-8t6VqSJO4z9"
      },
      "outputs": [],
      "source": [
        "# Random Forest with Bag of Words\n",
        "y_pred_rf_bow = rf_bow.predict(X_test_bow)\n",
        "print(classification_report(y_pred_rf_bow,y_test))\n",
        "print(\"Random Forest (BoW) -> Accuracy  :\", accuracy_score(y_test, y_pred_rf_bow))"
      ]
    },
    {
      "cell_type": "code",
      "source": [
        "print(\"Random Forest (BoW) -> Accuracy  :\", accuracy_score(y_test, y_pred_rf_bow))\n",
        "print(\"Random Forest (BoW) -> Precision :\", precision_score(y_test, y_pred_rf_bow, average='weighted'))\n",
        "print(\"Random Forest (BoW) -> Recall    :\", recall_score(y_test, y_pred_rf_bow, average='weighted'))\n",
        "print(\"Random Forest (BoW) -> F1 Score  :\", f1_score(y_test, y_pred_rf_bow, average='weighted'))"
      ],
      "metadata": {
        "id": "54x8vTdmM9QC"
      },
      "execution_count": null,
      "outputs": []
    },
    {
      "cell_type": "markdown",
      "metadata": {
        "id": "FlmuhJPrHgCj"
      },
      "source": [
        "### **C. Performance Analysis**"
      ]
    },
    {
      "cell_type": "markdown",
      "metadata": {
        "id": "nKTlrjVuHzg9"
      },
      "source": [
        "![image.png](data:image/png;base64,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)"
      ]
    },
    {
      "cell_type": "markdown",
      "metadata": {
        "id": "7f4X_6GiHxbk"
      },
      "source": [
        "**Performance analysis**:\n",
        "\n",
        "\n",
        "1. The SVM model with linear kernel shows excellent performance on both text representations. This indicates that SVM with a linear kernel is suitable for text classification problems with this C dataset.\n",
        "\n",
        "2. The Random Forest model also gives good results. However, the performance results of Random Forest are slightly lower than SVM.\n",
        "\n",
        "\n",
        "- **Hyperparameters**:\n",
        "\n",
        "1. The C value in SVM affects the level of regularization. Higher C values ​​indicate a more complex model. However, from analysis via gridsearch, even though the C value is low, if combined with the right kernel it can provide quite optimal results.\n",
        "\n",
        "2. n_estimators and max_depth in Random Forest, through the modeling that I did during training, the number of estimators and the maximum depth of the tree affects the complexity of the model. The more estimators and the deeper the tree, the more complex the model tends to be.\n",
        "\n",
        "- **Conclusion**\n",
        "1. SVM generally provides better results than Random Forest, for each of these algorithms, hyperparameter tuning also greatly influences the results obtained.\n",
        "\n",
        "2. The best results were obtained using the TF-IDF technique for text representation/vectorization with the SVM (Support vector machine) algorithm with hyperparameter tuning (C=1 and kernel = linear)"
      ]
    }
  ],
  "metadata": {
    "colab": {
      "provenance": [],
      "collapsed_sections": [
        "Hg3oEtSGKq-Y"
      ],
      "private_outputs": true
    },
    "kernelspec": {
      "display_name": "Python 3",
      "name": "python3"
    },
    "language_info": {
      "name": "python"
    }
  },
  "nbformat": 4,
  "nbformat_minor": 0
}